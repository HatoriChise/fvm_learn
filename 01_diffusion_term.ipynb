{
 "cells": [
  {
   "cell_type": "markdown",
   "id": "a4b91ef9",
   "metadata": {},
   "source": [
    "### 一维扩散方程\n",
    "一维导热方程（热传导方程）描述热量在空间和时间上的分布，其基本形式为：\n",
    "$$\\frac{\\partial \\phi}{\\partial t}=\\alpha \\frac{\\partial ^2\\phi}{\\partial x^2}$$\n",
    "这里 $\\phi$ 是温度分布，$x$ 是空间，$t$ 是时间，$\\alpha$ 是 thermal diffusivity，即热导率。\n",
    "\n",
    "离散过程旨在将连续方程转化为数值可求解的形式，常用有限差分法（FDM）或有限体积法（FVM）。以下以有限差分法为例，详细说明离散步骤。\n",
    "1. 网格划分\n",
    "- 空间离散：将一维空间划分成 $N$ 个单元，每个单元的宽度为 $\\Delta x$，即 $x_i = i \\Delta x$。\n",
    "- 时间离散：将时间划分为 $M$ 个时间步，每个时间步的间隔为 $\\Delta t$，即 $t^n = n \\Delta t$。\n",
    "2. 离散方程\n",
    "- 有限体积法：将连续方程转化为有限体积方程，即：\n",
    "$$\n",
    "\\frac{\\partial \\phi}{\\partial t}=\\alpha \\frac{\\partial ^2\\phi}{\\partial x^2}\n",
    "\\\\\n",
    "\\Longrightarrow \\int_V{\\frac{\\partial \\phi}{\\partial t}\\mathrm{d}V=\\int_V{\\Gamma \\frac{\\partial ^2\\phi}{\\partial x^2}\\mathrm{d}V}}\\Longrightarrow \\frac{\\partial \\phi}{\\partial t}V_p=\\oint_A{\\Gamma \\frac{\\partial \\phi}{\\partial x}\\mathbf{n}_x\\mathrm{d}A}\n",
    "\\\\\n",
    "\\oint_A{\\Gamma \\frac{\\partial \\phi}{\\partial x}\\mathbf{n}_x\\mathrm{d}A}=\\left[ \\Gamma \\frac{\\partial \\phi}{\\partial x} \\right] _eA_e-\\left[ \\Gamma \\frac{\\partial \\phi}{\\partial x} \\right] _wA_w\n",
    "$$\n",
    "- 时间项离散：使用向前差分格式（显欧拉）\n",
    "$$\n",
    "\\frac{\\partial \\phi}{\\partial t}=\\frac{\\phi _{i}^{n+1}-\\phi _{i}^{n}}{\\Delta t}\n",
    "$$\n",
    "- 扩散项项离散：可以看出，扩散项离散的核心是计算得到面上的梯度，即 $\\Gamma \\frac{\\partial \\phi}{\\partial x}$。对于扩散问题，采用中心差分格式是合理的。假设 $\\Gamma$ 是常数，则：\n",
    "$$\\left[ \\Gamma \\frac{\\partial \\phi}{\\partial x} \\right] _e=\\Gamma _e\\frac{\\phi _P-\\phi _E}{\\delta x_e}\\,\\,    \n",
    "\\\\\n",
    "\\\\\n",
    "\\left[ \\Gamma \\frac{\\partial \\phi}{\\partial x} \\right] _w=\\Gamma _w\\frac{\\phi _W-\\phi _P}{\\delta x_w} $$\n",
    "\n",
    "对于一维空间划分成 $N$ 个单元，可以得到 $N$ 个线性方程\n",
    "$$\n",
    "\\oint_A \\Gamma \\frac{\\partial \\phi}{\\partial x} \\mathbf{n}_x \\, dA = \\frac{\\Gamma A}{\\delta x} (\\phi_E + \\phi_W - 2\\phi_P)\n",
    "$$\n",
    "由于方程要求净通量为零，因此有：\n",
    "$$\n",
    "\\frac{\\Gamma A}{\\delta x} (\\phi_E + \\phi_W - 2\\phi_P) = 0\n",
    "$$\n",
    "\n",
    "\n",
    "$$\n",
    "-\\phi_{N-1} + 2\\phi_N - \\phi_{N+1} = 0 \\quad \\Rightarrow \\quad -\\phi_{N-1} + 2\\phi_N = \\phi_{N+1}\n",
    "$$\n",
    "\n",
    "由此，得到 $N$ 个线性方程，可组装成线性系统 $A \\phi = b$，其中 $\\phi = [\\phi_1, \\phi_2, \\ldots, \\phi_N]^T$ 为未知向量。矩阵 $A$ 为三对角矩阵，右端项 $b$ 包含边界值：\n",
    "$$\n",
    "A = \\begin{bmatrix}\n",
    "2 & -1 & 0 & \\cdots & 0 \\\\\n",
    "-1 & 2 & -1 & \\ddots & \\vdots \\\\\n",
    "0 & \\ddots & \\ddots & \\ddots & 0 \\\\\n",
    "\\vdots & \\ddots & -1 & 2 & -1 \\\\\n",
    "0 & \\cdots & 0 & -1 & 2\n",
    "\\end{bmatrix}, \\quad b = \\begin{bmatrix}\n",
    "\\phi_0 \\\\ 0 \\\\ \\vdots \\\\ 0 \\\\ \\phi_{N+1}\n",
    "\\end{bmatrix}\n",
    "\n",
    "$$\n",
    "\n",
    "\n",
    "3. 离散格式（shemes）\n",
    "4. BC&IC\n",
    "5. 迭代求解"
   ]
  },
  {
   "cell_type": "code",
   "execution_count": null,
   "id": "26e4cfbc",
   "metadata": {
    "vscode": {
     "languageId": "plaintext"
    }
   },
   "outputs": [],
   "source": []
  }
 ],
 "metadata": {
  "language_info": {
   "name": "python"
  }
 },
 "nbformat": 4,
 "nbformat_minor": 5
}
